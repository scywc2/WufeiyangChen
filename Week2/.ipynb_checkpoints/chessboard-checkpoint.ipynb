{
 "cells": [
  {
   "cell_type": "code",
   "execution_count": 2,
   "id": "f03ad605-0c94-4c24-8ae3-548e05c97301",
   "metadata": {},
   "outputs": [
    {
     "name": "stdout",
     "output_type": "stream",
     "text": [
      "棋盘格已保存为 chessboard.png\n"
     ]
    }
   ],
   "source": [
    "import cv2\n",
    "import numpy as np\n",
    "\n",
    "# 设置参数\n",
    "square_size = 30  # 每个方格的像素大小\n",
    "width = 9         # 横向角点数（实际方格数=角点数-1）\n",
    "height = 6        # 纵向角点数\n",
    "margin = 20       # 边缘留白\n",
    "\n",
    "# 创建棋盘格\n",
    "pattern = np.zeros((square_size*(height-1) + 2*margin, \n",
    "                   square_size*(width-1) + 2*margin), dtype=np.uint8)\n",
    "pattern[:] = 255  # 白色背景\n",
    "\n",
    "# 绘制黑色方格\n",
    "for i in range(height-1):\n",
    "    for j in range(width-1):\n",
    "        if (i + j) % 2 == 0:\n",
    "            y = margin + i*square_size\n",
    "            x = margin + j*square_size\n",
    "            pattern[y:y+square_size, x:x+square_size] = 0\n",
    "\n",
    "# 保存文件\n",
    "cv2.imwrite(\"chessboard.png\", pattern)\n",
    "print(\"棋盘格已保存为 chessboard.png\")"
   ]
  },
  {
   "cell_type": "code",
   "execution_count": null,
   "id": "3b5d96ca-a39b-4bc6-ba66-0f1346517beb",
   "metadata": {},
   "outputs": [],
   "source": []
  }
 ],
 "metadata": {
  "kernelspec": {
   "display_name": "Python [conda env:base] *",
   "language": "python",
   "name": "conda-base-py"
  },
  "language_info": {
   "codemirror_mode": {
    "name": "ipython",
    "version": 3
   },
   "file_extension": ".py",
   "mimetype": "text/x-python",
   "name": "python",
   "nbconvert_exporter": "python",
   "pygments_lexer": "ipython3",
   "version": "3.12.2"
  }
 },
 "nbformat": 4,
 "nbformat_minor": 5
}
