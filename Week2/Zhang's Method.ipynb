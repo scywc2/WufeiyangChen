{
 "cells": [
  {
   "cell_type": "code",
   "execution_count": 1,
   "id": "d5d3be43-6e2b-485e-ae9e-d72a3c6ee4db",
   "metadata": {
    "scrolled": true
   },
   "outputs": [
    {
     "name": "stdout",
     "output_type": "stream",
     "text": [
      "Average reprojection error: 0.306 Pixel（<0.5Pixel）\n"
     ]
    }
   ],
   "source": [
    "import numpy as np\n",
    "import cv2\n",
    "import glob\n",
    "import os\n",
    "\n",
    "os.makedirs(\"calibration_results\", exist_ok=True)\n",
    "\n",
    "pattern_size = (4, 7)  \n",
    "square_size = 2.5   \n",
    "\n",
    "objp = np.zeros((pattern_size[0] * pattern_size[1], 3), np.float32)\n",
    "objp[:, :2] = np.mgrid[0:pattern_size[0], 0:pattern_size[1]].T.reshape(-1, 2)\n",
    "objp *= square_size  \n",
    "\n",
    "obj_points = [] \n",
    "img_points = []  \n",
    "\n",
    "calib_images = glob.glob(\"calib_images/calib_*.JPG\")\n",
    "assert len(calib_images) > 0, \"The calibrated images were not found. Please check the calib images directory\"\n",
    "\n",
    "for fname in calib_images:\n",
    "    img = cv2.imread(fname)\n",
    "    gray = cv2.cvtColor(img, cv2.COLOR_BGR2GRAY)\n",
    "\n",
    "    ret, corners = cv2.findChessboardCorners(gray, pattern_size)\n",
    "    \n",
    "    if ret:\n",
    "        corners_refined = cv2.cornerSubPix(\n",
    "            gray, corners, (11, 11), (-1, -1),\n",
    "            criteria=(cv2.TERM_CRITERIA_EPS + cv2.TERM_CRITERIA_MAX_ITER, 30, 0.001)\n",
    "        )\n",
    "        \n",
    "        obj_points.append(objp)\n",
    "        img_points.append(corners_refined)\n",
    "        \n",
    "        cv2.drawChessboardCorners(img, pattern_size, corners_refined, ret)\n",
    "        cv2.imshow(\"Corners\", img)\n",
    "        cv2.waitKey(500)  \n",
    "\n",
    "cv2.destroyAllWindows()\n",
    "\n",
    "assert len(obj_points) >= 10, f\"The effective calibration graph is insufficient（{len(obj_points)}），At least ten are needed\"\n",
    "\n",
    "ret, mtx, dist, rvecs, tvecs = cv2.calibrateCamera(\n",
    "    obj_points, img_points, gray.shape[::-1], None, None\n",
    ")\n",
    "\n",
    "np.savez(\"calibration_results/calibration_data.npz\", \n",
    "         mtx=mtx, dist=dist, rvecs=rvecs, tvecs=tvecs)\n",
    "\n",
    "mean_error = 0\n",
    "for i in range(len(obj_points)):\n",
    "    img_points2, _ = cv2.projectPoints(obj_points[i], rvecs[i], tvecs[i], mtx, dist)\n",
    "    error = cv2.norm(img_points[i], img_points2, cv2.NORM_L2) / len(img_points2)\n",
    "    mean_error += error\n",
    "print(f\"Average reprojection error: {mean_error/len(obj_points):.3f} Pixel（<0.5Pixel）\")\n"
   ]
  },
  {
   "cell_type": "code",
   "execution_count": 9,
   "id": "df0c1ead-a0b2-4e8c-b0a2-d5aefc4f15b5",
   "metadata": {},
   "outputs": [
    {
     "name": "stdout",
     "output_type": "stream",
     "text": [
      "Calibration completed! The results have been saved to the directory calibration_results/\n"
     ]
    }
   ],
   "source": [
    "test_img = cv2.imread(calib_images[0])\n",
    "h, w = test_img.shape[:2]\n",
    "new_mtx, roi = cv2.getOptimalNewCameraMatrix(mtx, dist, (w, h), 1, (w, h))\n",
    "undistorted = cv2.undistort(test_img, mtx, dist, None, new_mtx)\n",
    "\n",
    "cv2.imwrite(\"calibration_results/original_vs_undistorted.jpg\", \n",
    "           np.hstack((test_img, undistorted)))\n",
    "print(\"Calibration completed! The results have been saved to the directory calibration_results/\")"
   ]
  },
  {
   "cell_type": "code",
   "execution_count": null,
   "id": "231ad201-9cb6-4c40-9176-a20974ae5c90",
   "metadata": {},
   "outputs": [],
   "source": [
    "#Detect the valid calibration graph\n",
    "import cv2\n",
    "img = cv2.imread(\"calib_images/calib_01.JPG\")\n",
    "gray = cv2.cvtColor(img, cv2.COLOR_BGR2GRAY)\n",
    "pattern_size = (4, 7)\n",
    "ret, corners = cv2.findChessboardCorners(gray, pattern_size)\n",
    "\n",
    "if ret:\n",
    "    # 可视化角点\n",
    "    cv2.drawChessboardCorners(img, pattern_size, corners, ret)\n",
    "    cv2.imshow(\"Corners\", img)\n",
    "    cv2.waitKey(0)\n",
    "else:\n",
    "    print(\"Corner detection failed! Check: \")\n",
    "    print(\"1. pattern_size is correct?\")\n",
    "    print(\"2. Whether the checkerboard is completely visible\")"
   ]
  },
  {
   "cell_type": "code",
   "execution_count": null,
   "id": "d9b49fb8-4a1a-4ebc-9dab-d17ce476aa81",
   "metadata": {},
   "outputs": [],
   "source": []
  }
 ],
 "metadata": {
  "kernelspec": {
   "display_name": "Python [conda env:base] *",
   "language": "python",
   "name": "conda-base-py"
  },
  "language_info": {
   "codemirror_mode": {
    "name": "ipython",
    "version": 3
   },
   "file_extension": ".py",
   "mimetype": "text/x-python",
   "name": "python",
   "nbconvert_exporter": "python",
   "pygments_lexer": "ipython3",
   "version": "3.12.2"
  }
 },
 "nbformat": 4,
 "nbformat_minor": 5
}
